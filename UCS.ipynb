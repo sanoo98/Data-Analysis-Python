{
 "metadata": {
  "name": "",
  "signature": "sha256:8bc3e6802dc384e6905b49d8fe081ddef80785791e63da589654c467f1425a08"
 },
 "nbformat": 3,
 "nbformat_minor": 0,
 "worksheets": [
  {
   "cells": [
    {
     "cell_type": "code",
     "collapsed": false,
     "input": [
      "import copy\n",
      "import queue as Q \n",
      "\n",
      "class Graph:\n",
      "\n",
      "    def __init__(self,nodes):\n",
      "        self.graph = dict() #contains all the adjacent nodes of each as key and value pair\n",
      "        self.cost_dict=dict()# contains cost of each edge traversal of (u,v)\n",
      "        self.final_dict=dict()#contains all the possible paths from start node s to goal node g with total cost\n",
      "        self.visited = [False]*nodes # List of Visited Nodes from Start \n",
      "\n",
      "    # u and v are nodes: edge u-->v with cost c \n",
      "    def addEdge(self,u,v,c):\n",
      "\n",
      "        if u not in self.graph:\n",
      "            qu = Q.PriorityQueue()\n",
      "            self.graph[u]=qu\n",
      "\n",
      "        self.graph[u].put(v)\n",
      "        self.cost_dict.update({(u,v):c})\n",
      "        \n",
      "        \n",
      "    def PrintG(self):\n",
      "        \n",
      "        print(\"Graph Edges\")\n",
      "        \n",
      "        for key,value in self.graph.items():\n",
      "            print (key,\"--->\",self.graph[key].queue)\n",
      "            \n",
      "        print(\"Graph Edges with Cost\")\n",
      "        \n",
      "        for j in self.cost_dict:\n",
      "            print (j,\"-->\",self.cost_dict[j])\n",
      "\n",
      "                \n",
      "            \n",
      "   # You need to implement this, you may need another function for recursion purposes\n",
      "    def UCS(self, s,goal):\n",
      "        \n",
      "       pass\n",
      "    \n",
      "    # Find the most optimal path between start node to goal node\n",
      "    def Shortest_Path(self):\n",
      "        if bool(self.final_dict):\n",
      "            print (\"Shortest path: \",min(self.final_dict, key=self.final_dict.get))\n",
      "        else:\n",
      "            print (\"No Path exists\")\n",
      "    \n",
      "    # Display all the paths that is been discovered from start node to Goal node\n",
      "    def Display_Paths(self):\n",
      "        \n",
      "        \n",
      "        if bool(self.final_dict): # if there is any path\n",
      "            print(\"All the paths: \")\n",
      "            for i in self.final_dict:\n",
      "                print (\"path: \",i,\"cost: \",self.final_dict[i])\n",
      "        else:\n",
      "            print (\"No Path exist\")\n",
      "\n",
      "    "
     ],
     "language": "python",
     "metadata": {},
     "outputs": [],
     "prompt_number": 75
    },
    {
     "cell_type": "code",
     "collapsed": false,
     "input": [
      "g = Graph(10) "
     ],
     "language": "python",
     "metadata": {},
     "outputs": [],
     "prompt_number": 76
    },
    {
     "cell_type": "code",
     "collapsed": false,
     "input": [
      "g.addEdge(0, 1, 1); g.addEdge(0, 2, 1); g.addEdge(1, 3, 3);\n",
      "g.addEdge(2, 5, 2); g.addEdge(3, 6, 4); g.addEdge(3, 5, 2);\n",
      "g.addEdge(4, 6, 1); g.addEdge(4, 7, 5); g.addEdge(5, 4, 4);\n",
      "g.addEdge(6, 7, 1); g.addEdge(5, 0, 3); g.addEdge(5, 8, 1);\n",
      "g.addEdge(8, 4, 1); g.addEdge(8, 9, 3); g.addEdge(9, 7, 1); \n",
      "g.addEdge(7, 0, 30);"
     ],
     "language": "python",
     "metadata": {},
     "outputs": [],
     "prompt_number": 79
    },
    {
     "cell_type": "code",
     "collapsed": false,
     "input": [
      "g.PrintG()"
     ],
     "language": "python",
     "metadata": {},
     "outputs": [
      {
       "output_type": "stream",
       "stream": "stdout",
       "text": [
        "Graph Edges\n",
        "0 ---> [1, 2, 1, 2]\n",
        "1 ---> [3, 3]\n",
        "2 ---> [5, 5]\n",
        "3 ---> [5, 5, 6, 6]\n",
        "4 ---> [6, 7, 6, 7]\n",
        "5 ---> [0, 0, 8, 4, 4, 8]\n",
        "6 ---> [7, 7]\n",
        "7 ---> [0]\n",
        "8 ---> [4, 9, 4, 9]\n",
        "9 ---> [7, 7]\n",
        "Graph Edges with Cost\n",
        "(0, 1) --> 1\n",
        "(4, 7) --> 5\n",
        "(1, 3) --> 3\n",
        "(6, 7) --> 1\n",
        "(4, 6) --> 1\n",
        "(7, 0) --> 30\n",
        "(5, 4) --> 4\n",
        "(3, 6) --> 4\n",
        "(8, 9) --> 3\n",
        "(5, 0) --> 3\n",
        "(9, 7) --> 1\n",
        "(2, 5) --> 2\n",
        "(8, 4) --> 1\n",
        "(0, 2) --> 1\n",
        "(5, 8) --> 1\n",
        "(3, 5) --> 2\n"
       ]
      }
     ],
     "prompt_number": 81
    },
    {
     "cell_type": "code",
     "collapsed": false,
     "input": [
      "g.UCS(0,6)\n",
      "\n",
      "\n",
      "g.Display_Paths()\n",
      "\n",
      "\n",
      "g.Shortest_Path()"
     ],
     "language": "python",
     "metadata": {},
     "outputs": [],
     "prompt_number": 81
    },
    {
     "cell_type": "code",
     "collapsed": false,
     "input": [],
     "language": "python",
     "metadata": {},
     "outputs": []
    }
   ],
   "metadata": {}
  }
 ]
}