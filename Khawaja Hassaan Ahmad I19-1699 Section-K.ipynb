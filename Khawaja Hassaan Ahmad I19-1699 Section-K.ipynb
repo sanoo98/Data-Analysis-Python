{
 "cells": [
  {
   "cell_type": "code",
   "execution_count": 78,
   "metadata": {},
   "outputs": [],
   "source": [
    "graph = { \"a\" : [\"c\"],\n",
    "          \"b\" : [\"c\", \"e\"],\n",
    "          \"c\" : [\"a\", \"b\", \"d\", \"e\"],\n",
    "          \"d\" : [\"c\"],\n",
    "          \"e\" : [\"c\", \"b\"],\n",
    "          \"f\" : []\n",
    "        } "
   ]
  },
  {
   "cell_type": "code",
   "execution_count": 79,
   "metadata": {},
   "outputs": [
    {
     "name": "stdout",
     "output_type": "stream",
     "text": [
      "[('a', 'c'), ('b', 'c'), ('b', 'e'), ('c', 'd'), ('c', 'e'), ('c', 'a'), ('c', 'b'), ('e', 'b'), ('e', 'c'), ('d', 'c')]\n"
     ]
    }
   ],
   "source": [
    "from collections import defaultdict\n",
    " \n",
    "# function for adding edge to graph\n",
    "graph = defaultdict(list)\n",
    "def addEdge(graph,u,v):\n",
    "    graph[u].append(v)\n",
    " \n",
    "# definition of function\n",
    "def generate_edges(graph):\n",
    "    edges = []\n",
    " \n",
    "    # for each node in graph\n",
    "    for node in graph:\n",
    "         \n",
    "        # for each neighbour node of a single node\n",
    "        for neighbour in graph[node]:\n",
    "             \n",
    "            # if edge exists then append\n",
    "            edges.append((node, neighbour))\n",
    "    return edges\n",
    " \n",
    "# declaration of graph as dictionary\n",
    "addEdge(graph,'a','c')\n",
    "addEdge(graph,'b','c')\n",
    "addEdge(graph,'b','e')\n",
    "addEdge(graph,'c','d')\n",
    "addEdge(graph,'c','e')\n",
    "addEdge(graph,'c','a')\n",
    "addEdge(graph,'c','b')\n",
    "addEdge(graph,'e','b')\n",
    "addEdge(graph,'d','c')\n",
    "addEdge(graph,'e','c')\n",
    " \n",
    "# Driver Function call \n",
    "# to print generated graph\n",
    "print(generate_edges(graph)) "
   ]
  },
  {
   "cell_type": "code",
   "execution_count": 80,
   "metadata": {},
   "outputs": [
    {
     "name": "stdout",
     "output_type": "stream",
     "text": [
      "None\n"
     ]
    }
   ],
   "source": [
    "\n",
    "# Python program to generate the first\n",
    "# path of the graph from the nodes provided\n",
    " \n",
    " \n",
    "# function to find path\n",
    " \n",
    " \n",
    "def find_path(graph, start, end, path=[]):\n",
    "    path = path + [start]\n",
    "    if start == end:\n",
    "        return path\n",
    "    for node in graph[start]:\n",
    "        if node not in path:\n",
    "            newpath = find_path(graph, node, end, path)\n",
    "            if newpath:\n",
    "                return newpath\n",
    "            return None\n",
    " \n",
    " \n",
    "# Driver function call to print the path\n",
    "print(find_path(graph, 'a', 'e'))\n"
   ]
  },
  {
   "cell_type": "code",
   "execution_count": 63,
   "metadata": {},
   "outputs": [
    {
     "name": "stdout",
     "output_type": "stream",
     "text": [
      "[['a', 'c', 'e'], ['a', 'c', 'e'], ['a', 'c', 'b', 'e']]\n"
     ]
    }
   ],
   "source": [
    "\n",
    "# Python program to generate the all possible\n",
    "# path of the graph from the nodes provided\n",
    " \n",
    "# function to generate all possible paths\n",
    "def find_all_paths(graph, start, end, path =[]):\n",
    "  path = path + [start]\n",
    "  if start == end:\n",
    "    return [path]\n",
    "  paths = []\n",
    "  newpaths=[]\n",
    "  for node in graph[start]:\n",
    "    if node not in path:\n",
    "      newpaths = find_all_paths(graph, node, end, path)\n",
    "    for newpath in newpaths:\n",
    "      paths.append(newpath)\n",
    "  return paths\n",
    "   \n",
    "# Driver function call to print all \n",
    "# generated paths\n",
    "print(find_all_paths(graph, 'a', 'e'))\n"
   ]
  },
  {
   "cell_type": "code",
   "execution_count": 64,
   "metadata": {},
   "outputs": [
    {
     "name": "stdout",
     "output_type": "stream",
     "text": [
      "None\n"
     ]
    }
   ],
   "source": [
    "\n",
    "# Python program to generate shortest path\n",
    " \n",
    "# function to find the shortest path\n",
    "def find_shortest_path(graph, start, end, path =[]):\n",
    "        path = path + [start]\n",
    "        if start == end:\n",
    "            return path\n",
    "        shortest = None\n",
    "        for node in graph[start]:\n",
    "            if node not in path:\n",
    "                newpath = find_shortest_path(graph, node, end, path)\n",
    "                if newpath:\n",
    "                    if not shortest or len(newpath) < len(shortest):\n",
    "                        shortest = newpath\n",
    "        return shortest\n",
    "         \n",
    "# Driver function call to print\n",
    "# the shortest path\n",
    "print(find_shortest_path(graph, 'a', 'f'))\n"
   ]
  },
  {
   "cell_type": "markdown",
   "metadata": {},
   "source": [
    "# Implemented using  Adjacency Matrix"
   ]
  },
  {
   "cell_type": "code",
   "execution_count": 108,
   "metadata": {},
   "outputs": [
    {
     "name": "stdout",
     "output_type": "stream",
     "text": [
      "Adjacency Matrix for the graph is:\n",
      "[0, 0, 1, 0, 0, 0]\n",
      "[0, 0, 1, 0, 1, 0]\n",
      "[1, 1, 0, 1, 1, 0]\n",
      "[0, 0, 1, 0, 0, 0]\n",
      "[0, 1, 1, 0, 0, 0]\n",
      "[0, 0, 0, 0, 0, 0]\n",
      "\n",
      "\n",
      "Edges/branches present in the graph are:\n",
      "[('a', 'c'), ('b', 'c'), ('b', 'e'), ('c', 'a'), ('c', 'b'), ('c', 'd'), ('c', 'e'), ('d', 'c'), ('e', 'b'), ('e', 'c')]\n"
     ]
    }
   ],
   "source": [
    "#Creating an array having nodes and creating dictionaries \n",
    "Nodes=['a','b','c','d','e','f']\n",
    "data1={}\n",
    "data2={}\n",
    "\n",
    "for i in Nodes:\n",
    "    data1[i]=ord(i)-97\n",
    "    data2[ord(i)-97]=i\n",
    "\n",
    "\n",
    "graph=[[0 for i in range(len(Nodes))]for j in range(len(Nodes))]\n",
    "\n",
    "def addEdge(graph,data1,u,v):\n",
    "    graph[data1[u]][data1[v]]=1\n",
    "    \n",
    "def include_edges(graph):\n",
    "    edges=[] \n",
    "    for i in range(len(graph)):\n",
    "        for j in range(len(graph)):\n",
    "            \n",
    "            if graph[i][j]==1:\n",
    "                \n",
    "                edges.append((data2[i],data2[j]))\n",
    "                \n",
    "    return edges\n",
    "\n",
    "\n",
    "\n",
    "addEdge(graph,data1,'a','c')\n",
    "addEdge(graph,data1,'b','c')\n",
    "addEdge(graph,data1,'b','e')\n",
    "addEdge(graph,data1,'c','d')\n",
    "addEdge(graph,data1,'c','e')\n",
    "addEdge(graph,data1,'c','a')\n",
    "addEdge(graph,data1,'c','b')\n",
    "addEdge(graph,data1,'e','b')\n",
    "addEdge(graph,data1,'d','c')\n",
    "addEdge(graph,data1,'e','c')\n",
    "\n",
    "print('Adjacency Matrix for the graph is:')\n",
    "for i in graph:\n",
    "    print(i)\n",
    "    \n",
    "print('\\n') \n",
    "print('Edges/branches present in the graph are:')\n",
    "print(include_edges(graph))\n",
    "\n"
   ]
  },
  {
   "cell_type": "code",
   "execution_count": 109,
   "metadata": {},
   "outputs": [
    {
     "name": "stdout",
     "output_type": "stream",
     "text": [
      "Path from node A to F is following:\n",
      "None\n",
      "\n",
      "Path from node A to E is following:\n",
      "['a', 'c', 'b', 'e']\n",
      "\n",
      "\n",
      "All Possible paths from node A to E are following:\n",
      "[['a', 'c', 'b', 'e'], ['a', 'c', 'e']]\n"
     ]
    }
   ],
   "source": [
    "def find_path(graph, start,end,data2, path=[]):\n",
    "    path=path+[data2[start]]\n",
    "    \n",
    "    if start==end:\n",
    "        return path\n",
    "    \n",
    "    for i in range(len(graph)):\n",
    "        if graph[start][i]==1:\n",
    "            if data2[i] not in path:\n",
    "                newpath= find_path(graph,i,end,data2,path)\n",
    "            \n",
    "                if newpath:\n",
    "                    return newpath\n",
    "                return None\n",
    "            \n",
    "\n",
    "print('Path from node A to F is following:')\n",
    "print(find_path(graph,data1['a'],data1['f'],data2))\n",
    "\n",
    "print('\\nPath from node A to E is following:')\n",
    "print(find_path(graph,data1['a'],data1['e'],data2))\n",
    "\n",
    "\n",
    "def find_all_paths(graph,start,end,data2,path=[]):\n",
    "    path=path+[data2[start]]\n",
    "    \n",
    "    if start==end:\n",
    "        return [path]\n",
    "    \n",
    "    paths=[]\n",
    "    latestpaths=[]\n",
    "    \n",
    "    for i in range(len(graph)):\n",
    "        if graph[start][i]==1:\n",
    "            \n",
    "            if data2[i] not in path:\n",
    "                latestpaths=find_all_paths(graph,i,end,data2,path)\n",
    "            \n",
    "            for newpath in latestpaths:\n",
    "                paths.append(newpath)\n",
    "    return paths\n",
    "\n",
    "print('\\n')\n",
    "print('All Possible paths from node A to E are following:'),\n",
    "print(find_all_paths(graph,data1['a'],data1['e'],data2))\n",
    "\n",
    "\n",
    "\n"
   ]
  },
  {
   "cell_type": "code",
   "execution_count": 110,
   "metadata": {},
   "outputs": [
    {
     "name": "stdout",
     "output_type": "stream",
     "text": [
      "Shortest path from node A to E is following:\n",
      "['a', 'c', 'e']\n",
      "\n",
      "Shortest path from node A to F is following:\n",
      "None\n"
     ]
    }
   ],
   "source": [
    "def search_shortest_path(graph, start, end,data2,path=[]):\n",
    "    path=path+[data2[start]]\n",
    "    \n",
    "    if start==end:\n",
    "        return path\n",
    "    \n",
    "    shortest_path =None\n",
    "    \n",
    "    for i in range(len(graph)):\n",
    "        if graph[start][i]==1:\n",
    "        \n",
    "            if data2[i] not in path:\n",
    "                newpath=search_shortest_path(graph,i,end,data2,path)\n",
    "                \n",
    "                if newpath:\n",
    "                    \n",
    "                    if not shortest_path or len(newpath)<len(shortest_path):\n",
    "                        shortest_path=newpath\n",
    "    return shortest_path\n",
    "\n",
    "\n",
    "print('Shortest path from node A to E is following:')\n",
    "print(search_shortest_path(graph,data1['a'],data1['e'],data2))\n",
    "\n",
    "\n",
    "print('\\nShortest path from node A to F is following:')\n",
    "print(search_shortest_path(graph,data1['a'],data1['f'],data2))"
   ]
  },
  {
   "cell_type": "code",
   "execution_count": null,
   "metadata": {},
   "outputs": [],
   "source": []
  },
  {
   "cell_type": "code",
   "execution_count": null,
   "metadata": {},
   "outputs": [],
   "source": []
  },
  {
   "cell_type": "code",
   "execution_count": null,
   "metadata": {},
   "outputs": [],
   "source": []
  }
 ],
 "metadata": {
  "kernelspec": {
   "display_name": "Python 3",
   "language": "python",
   "name": "python3"
  },
  "language_info": {
   "codemirror_mode": {
    "name": "ipython",
    "version": 3
   },
   "file_extension": ".py",
   "mimetype": "text/x-python",
   "name": "python",
   "nbconvert_exporter": "python",
   "pygments_lexer": "ipython3",
   "version": "3.8.3"
  }
 },
 "nbformat": 4,
 "nbformat_minor": 1
}
