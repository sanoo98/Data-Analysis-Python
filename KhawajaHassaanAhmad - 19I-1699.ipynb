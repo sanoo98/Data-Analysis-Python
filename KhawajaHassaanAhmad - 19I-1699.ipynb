{
 "cells": [
  {
   "cell_type": "markdown",
   "metadata": {},
   "source": [
    "### Numpy Exercise\n",
    "In this exercise, we will be working with a dataset with the information of baseball players. Here is the code to read the dataset and convert it into lists."
   ]
  },
  {
   "cell_type": "code",
   "execution_count": 4,
   "metadata": {},
   "outputs": [
    {
     "name": "stdout",
     "output_type": "stream",
     "text": [
      "Populating the interactive namespace from numpy and matplotlib\n"
     ]
    }
   ],
   "source": [
    "%pylab inline"
   ]
  },
  {
   "cell_type": "code",
   "execution_count": 5,
   "metadata": {},
   "outputs": [],
   "source": [
    "import pandas as pd\n",
    "from matplotlib import pyplot as plt"
   ]
  },
  {
   "cell_type": "code",
   "execution_count": 6,
   "metadata": {},
   "outputs": [],
   "source": [
    "bbdata=pd.read_csv('./baseball.csv')\n",
    "\n",
    "height=list(bbdata['height'])\n",
    "weight=list(bbdata['weights'])"
   ]
  },
  {
   "cell_type": "code",
   "execution_count": 7,
   "metadata": {},
   "outputs": [
    {
     "data": {
      "text/plain": [
       "<matplotlib.collections.PathCollection at 0x2613e6da400>"
      ]
     },
     "execution_count": 7,
     "metadata": {},
     "output_type": "execute_result"
    },
    {
     "data": {
      "image/png": "[encoded data removed]",
      "text/plain": [
       "<Figure size 432x288 with 1 Axes>"
      ]
     },
     "metadata": {
      "needs_background": "light"
     },
     "output_type": "display_data"
    }
   ],
   "source": [
    "plt.scatter(height,weight)"
   ]
  },
  {
   "cell_type": "markdown",
   "metadata": {},
   "source": [
    "### Real Work begins\n",
    "We have height and weidths as lists now, you task is to convert them into numpy arrays and then acheive the following insights.\n",
    "The units are height in inches, weight in Kgs"
   ]
  },
  {
   "cell_type": "code",
   "execution_count": 8,
   "metadata": {},
   "outputs": [
    {
     "name": "stdout",
     "output_type": "stream",
     "text": [
      "[74 74 72 ... 75 75 73]\n",
      "[81.64656 97.52228 95.25432 ... 92.98636 86.18248 88.45044]\n"
     ]
    }
   ],
   "source": [
    "# height is available as a regular list\n",
    "\n",
    "# Import numpy\n",
    "import numpy as np\n",
    "\n",
    "# Create a Numpy array from height: np_height\n",
    "np_height = np.array(height)\n",
    "\n",
    "# Print out np_height\n",
    "print (np_height)\n",
    "\n",
    "\n",
    "# Create array from weight with correct units: np_weight_kg \n",
    "np_weight_kg = np.array(weight)  * 0.453592\n",
    "\n",
    "# print the array np_weight_kg\n",
    "print (np_weight_kg)"
   ]
  },
  {
   "cell_type": "markdown",
   "metadata": {},
   "source": [
    "* 1 meter = 39.3701 inches"
   ]
  },
  {
   "cell_type": "code",
   "execution_count": 9,
   "metadata": {},
   "outputs": [
    {
     "name": "stdout",
     "output_type": "stream",
     "text": [
      "[1.87959899 1.87959899 1.82879901 ... 1.90499897 1.90499897 1.854199  ]\n"
     ]
    }
   ],
   "source": [
    "# Convert np_height to meters: np_height_m\n",
    "np_height_m = np_height / 39.3701\n",
    "\n",
    "# Print np_height_m\n",
    "print (np_height_m)"
   ]
  },
  {
   "cell_type": "markdown",
   "metadata": {},
   "source": [
    "- BMI=weight(kg)/(height (in m)**2)"
   ]
  },
  {
   "cell_type": "code",
   "execution_count": 10,
   "metadata": {},
   "outputs": [
    {
     "name": "stdout",
     "output_type": "stream",
     "text": [
      "[23.11040135 27.6040905  28.48083541 ... 25.62298701 23.7481343\n",
      " 25.7268914 ]\n"
     ]
    }
   ],
   "source": [
    "# Calculate the BMI: bmi\n",
    "bmis = np_weight_kg / (np_height_m ** 2)\n",
    "\n",
    "# Print out bmi\n",
    "print (bmis)"
   ]
  },
  {
   "cell_type": "markdown",
   "metadata": {},
   "source": [
    "Create a boolean Numpy array: the element of the array should be True if the corresponding baseball player's BMI is below 21. You can use the < operator for this. Name the array light.\n",
    "Print the array light.\n",
    "Print out a Numpy array with the BMIs of all baseball players whose BMI is below 21. Use light inside square brackets to do a selection on the bmi array.\n"
   ]
  },
  {
   "cell_type": "code",
   "execution_count": 11,
   "metadata": {},
   "outputs": [
    {
     "name": "stdout",
     "output_type": "stream",
     "text": [
      "[False False False ... False False False]\n",
      "[20.54257898 20.54257898 20.69284282 20.69284282 20.34345386 20.34345386\n",
      " 20.69284282 20.15885649 19.49846816 20.69284282 20.9205445 ]\n"
     ]
    },
    {
     "name": "stderr",
     "output_type": "stream",
     "text": [
      "<ipython-input-11-210961e21b0d>:1: RuntimeWarning: invalid value encountered in less\n",
      "  light = np.array(bmis < 21)\n",
      "<ipython-input-11-210961e21b0d>:2: RuntimeWarning: invalid value encountered in less\n",
      "  light = bmis < 21\n"
     ]
    }
   ],
   "source": [
    "light = np.array(bmis < 21)\n",
    "light = bmis < 21\n",
    "\n",
    "print (light)\n",
    "print(bmis[light])"
   ]
  },
  {
   "cell_type": "code",
   "execution_count": 12,
   "metadata": {},
   "outputs": [
    {
     "name": "stdout",
     "output_type": "stream",
     "text": [
      "float64\n",
      "(4, 2)\n"
     ]
    }
   ],
   "source": [
    "# Create baseball, a list of lists\n",
    "baseball = [[180, 78.4],\n",
    "            [215, 102.7],\n",
    "            [210, 98.5],\n",
    "            [188, 75.2]]\n",
    "\n",
    "# Import numpy\n",
    "import numpy as np\n",
    "\n",
    "# Create a 2D Numpy array from baseball: np_baseball\n",
    "np_baseball = np.array(baseball)\n",
    "\n",
    "# Print out the type of np_baseball\n",
    "print (np_baseball.dtype)\n",
    "\n",
    "# Print out the shape of np_baseball\n",
    "print (np_baseball.shape)\n",
    "\n",
    "\n"
   ]
  },
  {
   "cell_type": "code",
   "execution_count": 13,
   "metadata": {},
   "outputs": [
    {
     "name": "stdout",
     "output_type": "stream",
     "text": [
      "[[180.   78.4]\n",
      " [215.  102.7]\n",
      " [210.   98.5]\n",
      " [188.   75.2]]\n",
      "(4, 2)\n"
     ]
    }
   ],
   "source": [
    "# 1. Create a 2D Numpy array named np_baseball from the lists of weight and height\n",
    "#### Your Code ###\n",
    "####  Here ### \n",
    "np_baseball = np.array(baseball)\n",
    "print(np_baseball)\n",
    "#print(type(np_baseball))\n",
    "\n",
    "\n",
    "\n",
    "\n",
    "# 2.Print out the shape of np_baseball\n",
    "#### Your Code ###\n",
    "####  Here ### \n",
    "print(np_baseball.shape)"
   ]
  },
  {
   "cell_type": "markdown",
   "metadata": {},
   "source": [
    "- If you want to convert the units of height and weight. As a first step, create a Numpy array with two values: 0.0254, 0.453592. Name this array conversion.\n",
    "Multiply np_baseball with conversion and print out the result."
   ]
  },
  {
   "cell_type": "code",
   "execution_count": 14,
   "metadata": {},
   "outputs": [
    {
     "name": "stdout",
     "output_type": "stream",
     "text": [
      "[[ 4.572     35.5616128]\n",
      " [ 5.461     46.5838984]\n",
      " [ 5.334     44.678812 ]\n",
      " [ 4.7752    34.1101184]]\n"
     ]
    }
   ],
   "source": [
    "################################ Not part of exercise, just for inormation #######################################\n",
    "\n",
    "conversion = np.array([0.0254, 0.453592])\n",
    "print (np.array([np_baseball[:,0] * conversion[0], np_baseball[:,1] * conversion[1]]).T)\n",
    "#print (np.multiply(np_baseball.T, conversion))"
   ]
  },
  {
   "cell_type": "markdown",
   "metadata": {},
   "source": [
    "### Now it's time for some statistics"
   ]
  },
  {
   "cell_type": "code",
   "execution_count": 15,
   "metadata": {},
   "outputs": [
    {
     "name": "stdout",
     "output_type": "stream",
     "text": [
      "Average of np_height: 73.6972920696325\n",
      "Median of np_height: 74.0\n",
      "Median of height: 74.0\n",
      "Standard Deviation: 2.304703041620148\n",
      "(array([0], dtype=int64),)\n",
      "Correlation: [46751.68]\n",
      "Correlation Coefficients:\n",
      " [[1. 1.]\n",
      " [1. 1.]]\n"
     ]
    }
   ],
   "source": [
    "# 3. Print out the mean of np_height\n",
    "#### Your Code ###\n",
    "####  Here ### \n",
    "avg = np.mean(np_height)\n",
    "print(\"Average of np_height: \" + str(avg))  #Converting avg from float to string and Adding 2 strings\n",
    "\n",
    "\n",
    "\n",
    "# 4. Print out the median of np_height\n",
    "#### Your Code ###\n",
    "####  Here ### \n",
    "med=np.median(np_height)\n",
    "print(\"Median of np_height: \" + str(med)) #Converting med from float to string and adding 2 strings\n",
    "\n",
    "# 5. Print median height. Replace 'None'\n",
    "#### Your Code ###\n",
    "####  Here ### \n",
    "a=np.median(height)\n",
    "print(\"Median of height: \" + str(a))\n",
    "\n",
    "\n",
    "\n",
    "# 6. Print out the standard deviation on height. Replace 'None'\n",
    "#### Your Code ###\n",
    "####  Here ### \n",
    "stddev =np.std(height)\n",
    "print(\"Standard Deviation: \" + str(stddev))\n",
    "\n",
    "# 7. Print the index of player with maximum height\n",
    "#### Your Code ###\n",
    "####  Here ### \n",
    "max=np.max(np_height)\n",
    "indexx=np.where(max)\n",
    "print (indexx)\n",
    "\n",
    "\n",
    "\n",
    "################################ Not part of exercise, just for inormation #######################################\n",
    "\n",
    "# Print out correlation between first and second column. Replace 'None'\n",
    "bs = np.nan_to_num(np_baseball)\n",
    "print (\"Correlation:\", np.correlate(bs[0,:], bs[1,:]))\n",
    "print (\"Correlation Coefficients:\\n\", np.corrcoef(bs[0,:], bs[1,:]))"
   ]
  },
  {
   "cell_type": "code",
   "execution_count": 16,
   "metadata": {},
   "outputs": [
    {
     "name": "stdout",
     "output_type": "stream",
     "text": [
      "[74 74 72 ... 75 75 73]\n"
     ]
    }
   ],
   "source": [
    "# 8. Replace all the players height greater than 6 Feet with 6 Feet\n",
    "#### Your Code ###\n",
    "####  Here ### \n",
    "print (np.where(np_height==6, 6, np_height))"
   ]
  },
  {
   "cell_type": "code",
   "execution_count": 17,
   "metadata": {},
   "outputs": [
    {
     "name": "stdout",
     "output_type": "stream",
     "text": [
      "999\n"
     ]
    },
    {
     "name": "stderr",
     "output_type": "stream",
     "text": [
      "<ipython-input-17-03c03faace4d>:4: RuntimeWarning: invalid value encountered in greater\n",
      "  count=sum(np.array(np_weight_kg)>75)\n"
     ]
    }
   ],
   "source": [
    "# 9. Count number of players with weight greater than 75 kg..\n",
    "#### Your Code ###\n",
    "####  Here ###\n",
    "count=sum(np.array(np_weight_kg)>75)\n",
    "print (count)"
   ]
  },
  {
   "cell_type": "code",
   "execution_count": null,
   "metadata": {},
   "outputs": [],
   "source": []
  },
  {
   "cell_type": "code",
   "execution_count": 18,
   "metadata": {},
   "outputs": [
    {
     "name": "stdout",
     "output_type": "stream",
     "text": [
      "[1007 1008  773 ...  881  573  928]\n"
     ]
    }
   ],
   "source": [
    "# 10. Sort the height, and get the sorting index as well\n",
    "print(np.argsort(np_height))\n"
   ]
  },
  {
   "cell_type": "code",
   "execution_count": 19,
   "metadata": {},
   "outputs": [
    {
     "ename": "SyntaxError",
     "evalue": "Missing parentheses in call to 'print'. Did you mean print(players.shape)? (<ipython-input-19-7437238652cc>, line 5)",
     "output_type": "error",
     "traceback": [
      "\u001b[1;36m  File \u001b[1;32m\"<ipython-input-19-7437238652cc>\"\u001b[1;36m, line \u001b[1;32m5\u001b[0m\n\u001b[1;33m    print players.shape\u001b[0m\n\u001b[1;37m          ^\u001b[0m\n\u001b[1;31mSyntaxError\u001b[0m\u001b[1;31m:\u001b[0m Missing parentheses in call to 'print'. Did you mean print(players.shape)?\n"
     ]
    }
   ],
   "source": [
    "################################ Not part of exercise, just for inormation #######################################\n",
    "\n",
    "#Reshape the 2 x Number of Players array to Number of Players x 2\n",
    "players = np.reshape(np_baseball, (np_baseball.shape[1], 2))\n",
    "print players.shape"
   ]
  },
  {
   "cell_type": "code",
   "execution_count": 20,
   "metadata": {},
   "outputs": [
    {
     "data": {
      "text/plain": [
       "<matplotlib.patches.FancyArrow at 0x2613e703d60>"
      ]
     },
     "execution_count": 20,
     "metadata": {},
     "output_type": "execute_result"
    },
    {
     "data": {
      "image/png": "[encoded data removed]",
      "text/plain": [
       "<Figure size 432x288 with 1 Axes>"
      ]
     },
     "metadata": {
      "needs_background": "light"
     },
     "output_type": "display_data"
    }
   ],
   "source": [
    "################################ Not part of exercise, just for inormation #######################################\n",
    "\n",
    "#Now choose a random player, and project player height and weight to this random player, you can plot\n",
    "# the vector using plt.arrow function\n",
    "random_player = np.random.randint(0, np_baseball.shape[1])\n",
    "projected_player = np_baseball[:, random_player] / np.linalg.norm(np_baseball[:, random_player])\n",
    "\n",
    "plt.title(\"Player no. \" + str(random_player))\n",
    "plt.arrow(0, 0, projected_player[0], projected_player[1])"
   ]
  },
  {
   "cell_type": "code",
   "execution_count": 21,
   "metadata": {},
   "outputs": [
    {
     "name": "stdout",
     "output_type": "stream",
     "text": [
      "[0.6592282  4.95884107 6.96765813 0.97128768 5.02666649 4.99328047\n",
      " 1.97522971 2.34189822 3.23319816 8.35284522]\n",
      "[0.04502961 0.33872135 0.47593672 0.06634532 0.34335427 0.34107379\n",
      " 0.13492114 0.159967   0.22084863 0.57055408]\n"
     ]
    }
   ],
   "source": [
    "#11.  Remember before projecting convert the player vector to unit norm...\n",
    "#### Your Code ###\n",
    "####  Here ### \n",
    "an_array = np.random.rand(10)*10\n",
    "print(an_array)\n",
    "norm = np.linalg.norm(an_array)\n",
    "normal_array = an_array/norm\n",
    "print(normal_array)\n"
   ]
  },
  {
   "cell_type": "code",
   "execution_count": 22,
   "metadata": {},
   "outputs": [
    {
     "ename": "SyntaxError",
     "evalue": "Missing parentheses in call to 'print'. Did you mean print(\"Orthogonal Vector:\", ortho)? (<ipython-input-22-50b41cd157ff>, line 7)",
     "output_type": "error",
     "traceback": [
      "\u001b[1;36m  File \u001b[1;32m\"<ipython-input-22-50b41cd157ff>\"\u001b[1;36m, line \u001b[1;32m7\u001b[0m\n\u001b[1;33m    print \"Orthogonal Vector:\", ortho\u001b[0m\n\u001b[1;37m          ^\u001b[0m\n\u001b[1;31mSyntaxError\u001b[0m\u001b[1;31m:\u001b[0m Missing parentheses in call to 'print'. Did you mean print(\"Orthogonal Vector:\", ortho)?\n"
     ]
    }
   ],
   "source": [
    "################################ Not part of exercise, just for inormation #######################################\n",
    "\n",
    "# Create an orthogonal vector to the choosen vector\n",
    "ortho = np.random.randn(projected_player.shape[0])\n",
    "ortho -= ortho.dot(projected_player) * projected_player / np.linalg.norm(projected_player)\n",
    "\n",
    "print \"Orthogonal Vector:\", ortho\n",
    "print \"Dot Product:\", np.dot(ortho, projected_player)"
   ]
  },
  {
   "cell_type": "code",
   "execution_count": 23,
   "metadata": {},
   "outputs": [
    {
     "ename": "SyntaxError",
     "evalue": "Missing parentheses in call to 'print'. Did you mean print(\"Orthogonal Projections:\\n\", orthogonal_projections)? (<ipython-input-23-524ea466d5d9>, line 10)",
     "output_type": "error",
     "traceback": [
      "\u001b[1;36m  File \u001b[1;32m\"<ipython-input-23-524ea466d5d9>\"\u001b[1;36m, line \u001b[1;32m10\u001b[0m\n\u001b[1;33m    print \"Orthogonal Projections:\\n\", orthogonal_projections\u001b[0m\n\u001b[1;37m          ^\u001b[0m\n\u001b[1;31mSyntaxError\u001b[0m\u001b[1;31m:\u001b[0m Missing parentheses in call to 'print'. Did you mean print(\"Orthogonal Projections:\\n\", orthogonal_projections)?\n"
     ]
    }
   ],
   "source": [
    "################################ Not part of exercise, just for inormation #######################################\n",
    "\n",
    "# Project all the players to orthogonal vector...\n",
    "orthogonal_projections = []\n",
    "normalized_players = []\n",
    "for player in np_baseball.T:\n",
    "    orthogonal_projections.append(player * (np.dot(ortho, player) / np.dot(player, player)))\n",
    "    normalized_players.append((player / np.linalg.norm(player)).tolist())\n",
    "orthogonal_projections = np.array(orthogonal_projections)\n",
    "print \"Orthogonal Projections:\\n\", orthogonal_projections\n",
    "# print \"Normalized Players:\\n\", normalized_players"
   ]
  },
  {
   "cell_type": "code",
   "execution_count": 24,
   "metadata": {},
   "outputs": [
    {
     "ename": "SyntaxError",
     "evalue": "Missing parentheses in call to 'print'. Did you mean print(backed_players)? (<ipython-input-24-82f3f5dbf45d>, line 9)",
     "output_type": "error",
     "traceback": [
      "\u001b[1;36m  File \u001b[1;32m\"<ipython-input-24-82f3f5dbf45d>\"\u001b[1;36m, line \u001b[1;32m9\u001b[0m\n\u001b[1;33m    print backed_players\u001b[0m\n\u001b[1;37m          ^\u001b[0m\n\u001b[1;31mSyntaxError\u001b[0m\u001b[1;31m:\u001b[0m Missing parentheses in call to 'print'. Did you mean print(backed_players)?\n"
     ]
    }
   ],
   "source": [
    "################################ Not part of exercise, just for inormation #######################################\n",
    "\n",
    "# BackProject the found components of the player to original domain...\n",
    "backed_players = []\n",
    "for idx, op in enumerate(orthogonal_projections):\n",
    "#     print idx, op * normalized_players[idx]\n",
    "    backed_players.append((normalized_players[idx] - np.array(normalized_players[idx]).dot(op) * op / np.linalg.norm(op)).tolist())\n",
    "backed_players = np.array(backed_players)\n",
    "print backed_players"
   ]
  },
  {
   "cell_type": "markdown",
   "metadata": {},
   "source": [
    "#### Advanced Operations"
   ]
  },
  {
   "cell_type": "markdown",
   "metadata": {},
   "source": [
    "1. Construct an array from the list: [1,2,3]\n",
    "2. Cast it into floats\n",
    "3. Create an array of int ranging from 0-10 \n",
    "4. Create an array containing 7 evenly spaced numbers between 0 and 23\n",
    "5. Create an array with shape (2,5,1,5,2,1) containing only the number 5\n",
    "6. Eliminate all length-1 dimensions. See the function squeeze.\n",
    "7. Reshape the resulting array from shape (2,5,3,2) to only 2D\n",
    "8. Calculate the mean, std, var, max, min, of an array with shape (3,3,12,3) containing floats drawn\n",
    "from a normal distribution with mean 21 and sigma 4.5. see the np.random.normal.\n",
    "9. Do the same but not on all elements but only on the 2nd dimension. \n",
    "10. Transform the array such that it is only 1d. See the function Flatten or ravel\n",
    "11. Remove all values smaller 15 and larger 26.\n",
    "12. Clip all values smaller 15 and larger 26 to NaN. See the function Clip\n",
    "13. Calculate the sum of the resulting array. It should not be NaN!.\n",
    "14. Convert the NaN’s to 0.0. See Where\n",
    "15. Save the array and load it again."
   ]
  },
  {
   "cell_type": "code",
   "execution_count": 25,
   "metadata": {},
   "outputs": [
    {
     "name": "stdout",
     "output_type": "stream",
     "text": [
      "[1, 2, 3]\n",
      "[1 2 3]\n",
      "[1. 2. 3.]\n",
      "[ 0  1  2  3  4  5  6  7  8  9 10]\n",
      "<class 'numpy.ndarray'>\n",
      "[ 0.          3.83333333  7.66666667 11.5        15.33333333 19.16666667\n",
      " 23.        ]\n",
      "[[[[[[5.]\n",
      "     [5.]]\n",
      "\n",
      "    [[5.]\n",
      "     [5.]]\n",
      "\n",
      "    [[5.]\n",
      "     [5.]]\n",
      "\n",
      "    [[5.]\n",
      "     [5.]]\n",
      "\n",
      "    [[5.]\n",
      "     [5.]]]]\n",
      "\n",
      "\n",
      "\n",
      "  [[[[5.]\n",
      "     [5.]]\n",
      "\n",
      "    [[5.]\n",
      "     [5.]]\n",
      "\n",
      "    [[5.]\n",
      "     [5.]]\n",
      "\n",
      "    [[5.]\n",
      "     [5.]]\n",
      "\n",
      "    [[5.]\n",
      "     [5.]]]]\n",
      "\n",
      "\n",
      "\n",
      "  [[[[5.]\n",
      "     [5.]]\n",
      "\n",
      "    [[5.]\n",
      "     [5.]]\n",
      "\n",
      "    [[5.]\n",
      "     [5.]]\n",
      "\n",
      "    [[5.]\n",
      "     [5.]]\n",
      "\n",
      "    [[5.]\n",
      "     [5.]]]]\n",
      "\n",
      "\n",
      "\n",
      "  [[[[5.]\n",
      "     [5.]]\n",
      "\n",
      "    [[5.]\n",
      "     [5.]]\n",
      "\n",
      "    [[5.]\n",
      "     [5.]]\n",
      "\n",
      "    [[5.]\n",
      "     [5.]]\n",
      "\n",
      "    [[5.]\n",
      "     [5.]]]]\n",
      "\n",
      "\n",
      "\n",
      "  [[[[5.]\n",
      "     [5.]]\n",
      "\n",
      "    [[5.]\n",
      "     [5.]]\n",
      "\n",
      "    [[5.]\n",
      "     [5.]]\n",
      "\n",
      "    [[5.]\n",
      "     [5.]]\n",
      "\n",
      "    [[5.]\n",
      "     [5.]]]]]\n",
      "\n",
      "\n",
      "\n",
      "\n",
      " [[[[[5.]\n",
      "     [5.]]\n",
      "\n",
      "    [[5.]\n",
      "     [5.]]\n",
      "\n",
      "    [[5.]\n",
      "     [5.]]\n",
      "\n",
      "    [[5.]\n",
      "     [5.]]\n",
      "\n",
      "    [[5.]\n",
      "     [5.]]]]\n",
      "\n",
      "\n",
      "\n",
      "  [[[[5.]\n",
      "     [5.]]\n",
      "\n",
      "    [[5.]\n",
      "     [5.]]\n",
      "\n",
      "    [[5.]\n",
      "     [5.]]\n",
      "\n",
      "    [[5.]\n",
      "     [5.]]\n",
      "\n",
      "    [[5.]\n",
      "     [5.]]]]\n",
      "\n",
      "\n",
      "\n",
      "  [[[[5.]\n",
      "     [5.]]\n",
      "\n",
      "    [[5.]\n",
      "     [5.]]\n",
      "\n",
      "    [[5.]\n",
      "     [5.]]\n",
      "\n",
      "    [[5.]\n",
      "     [5.]]\n",
      "\n",
      "    [[5.]\n",
      "     [5.]]]]\n",
      "\n",
      "\n",
      "\n",
      "  [[[[5.]\n",
      "     [5.]]\n",
      "\n",
      "    [[5.]\n",
      "     [5.]]\n",
      "\n",
      "    [[5.]\n",
      "     [5.]]\n",
      "\n",
      "    [[5.]\n",
      "     [5.]]\n",
      "\n",
      "    [[5.]\n",
      "     [5.]]]]\n",
      "\n",
      "\n",
      "\n",
      "  [[[[5.]\n",
      "     [5.]]\n",
      "\n",
      "    [[5.]\n",
      "     [5.]]\n",
      "\n",
      "    [[5.]\n",
      "     [5.]]\n",
      "\n",
      "    [[5.]\n",
      "     [5.]]\n",
      "\n",
      "    [[5.]\n",
      "     [5.]]]]]]\n",
      "[[[[5. 5.]\n",
      "   [5. 5.]\n",
      "   [5. 5.]\n",
      "   [5. 5.]\n",
      "   [5. 5.]]\n",
      "\n",
      "  [[5. 5.]\n",
      "   [5. 5.]\n",
      "   [5. 5.]\n",
      "   [5. 5.]\n",
      "   [5. 5.]]\n",
      "\n",
      "  [[5. 5.]\n",
      "   [5. 5.]\n",
      "   [5. 5.]\n",
      "   [5. 5.]\n",
      "   [5. 5.]]\n",
      "\n",
      "  [[5. 5.]\n",
      "   [5. 5.]\n",
      "   [5. 5.]\n",
      "   [5. 5.]\n",
      "   [5. 5.]]\n",
      "\n",
      "  [[5. 5.]\n",
      "   [5. 5.]\n",
      "   [5. 5.]\n",
      "   [5. 5.]\n",
      "   [5. 5.]]]\n",
      "\n",
      "\n",
      " [[[5. 5.]\n",
      "   [5. 5.]\n",
      "   [5. 5.]\n",
      "   [5. 5.]\n",
      "   [5. 5.]]\n",
      "\n",
      "  [[5. 5.]\n",
      "   [5. 5.]\n",
      "   [5. 5.]\n",
      "   [5. 5.]\n",
      "   [5. 5.]]\n",
      "\n",
      "  [[5. 5.]\n",
      "   [5. 5.]\n",
      "   [5. 5.]\n",
      "   [5. 5.]\n",
      "   [5. 5.]]\n",
      "\n",
      "  [[5. 5.]\n",
      "   [5. 5.]\n",
      "   [5. 5.]\n",
      "   [5. 5.]\n",
      "   [5. 5.]]\n",
      "\n",
      "  [[5. 5.]\n",
      "   [5. 5.]\n",
      "   [5. 5.]\n",
      "   [5. 5.]\n",
      "   [5. 5.]]]]\n",
      "[[5. 5. 5. 5. 5. 5. 5. 5. 5. 5.]\n",
      " [5. 5. 5. 5. 5. 5. 5. 5. 5. 5.]\n",
      " [5. 5. 5. 5. 5. 5. 5. 5. 5. 5.]\n",
      " [5. 5. 5. 5. 5. 5. 5. 5. 5. 5.]\n",
      " [5. 5. 5. 5. 5. 5. 5. 5. 5. 5.]\n",
      " [5. 5. 5. 5. 5. 5. 5. 5. 5. 5.]\n",
      " [5. 5. 5. 5. 5. 5. 5. 5. 5. 5.]\n",
      " [5. 5. 5. 5. 5. 5. 5. 5. 5. 5.]\n",
      " [5. 5. 5. 5. 5. 5. 5. 5. 5. 5.]\n",
      " [5. 5. 5. 5. 5. 5. 5. 5. 5. 5.]]\n",
      "20.877934581124627 4.561353547975665 20.80594618963019 33.422174937969864 7.036890707960403\n",
      "[[[18.65348377 21.1806016  20.15137082]\n",
      "  [20.30899516 20.75126619 20.53154444]\n",
      "  [20.08882828 22.34994198 21.43442684]]\n",
      "\n",
      " [[19.78340828 21.33269793 21.08833313]\n",
      "  [24.28717364 19.85413286 23.1576135 ]\n",
      "  [22.42461953 21.74333667 20.49852839]]\n",
      "\n",
      " [[21.48057322 20.84255775 18.50386862]\n",
      "  [21.59321679 17.7401659  23.43092576]\n",
      "  [21.78581025 18.26221954 20.44459287]]]\n",
      "[[[6.20457374 4.77005753 4.83949167]\n",
      "  [4.24076205 3.57837039 3.35567747]\n",
      "  [3.74094281 3.36038146 5.49571077]]\n",
      "\n",
      " [[5.33058265 4.391917   5.31665631]\n",
      "  [3.67067555 3.18433059 4.47189261]\n",
      "  [5.07061059 3.49578748 3.77255165]]\n",
      "\n",
      " [[4.25199748 4.39022278 3.03251214]\n",
      "  [4.02130389 4.56007311 2.90673594]\n",
      "  [3.84023142 4.0717407  4.69634183]]]\n",
      "[[[38.49673526 22.75344886 23.42067967]\n",
      "  [17.98406273 12.80473465 11.26057127]\n",
      "  [13.99465308 11.29216354 30.20283687]]\n",
      "\n",
      " [[28.41511143 19.28893495 28.26683429]\n",
      "  [13.47385902 10.1399613  19.99782353]\n",
      "  [25.71109177 12.22053012 14.23214599]]\n",
      "\n",
      " [[18.07948258 19.27405605  9.19612989]\n",
      "  [16.170885   20.79426678  8.44911384]\n",
      "  [14.74737738 16.57907235 22.05562656]]]\n",
      "[[[28.51960011 31.17162722 28.04472759]\n",
      "  [29.08008833 27.12999696 30.09929703]\n",
      "  [25.7751191  28.93593288 32.79535187]]\n",
      "\n",
      " [[28.82794228 29.20080057 27.9188323 ]\n",
      "  [29.95487098 23.70427599 32.28535779]\n",
      "  [33.42217494 27.46751725 27.3361504 ]]\n",
      "\n",
      " [[28.51826725 27.67616898 24.37750731]\n",
      "  [27.85465554 27.69674245 27.28201929]\n",
      "  [28.79059953 23.53979814 27.50318804]]]\n",
      "[[[ 7.03689071 11.8107873  11.85468138]\n",
      "  [15.55351919 17.07491481 17.45288745]\n",
      "  [13.88861636 16.07730897 10.39470806]]\n",
      "\n",
      " [[ 7.86626511 14.36845045 10.87278054]\n",
      "  [16.79805495 13.68484667 16.4459506 ]\n",
      "  [16.84234059 17.25287784 13.76080762]]\n",
      "\n",
      " [[14.28396799 14.28544874 12.4825813 ]\n",
      "  [14.88028656  8.6783354  17.16327783]\n",
      "  [15.9458456   8.62435376 12.8229907 ]]]\n",
      "10.\n",
      "[12.70434794 23.89855846 15.21612255 23.03835029 18.42020509 25.00609476\n",
      "  7.03689071 17.74182685 18.67479665 12.26595898 24.67165212 21.75167662\n",
      " 24.36600618 17.13512119 11.85468138 27.13582224 11.8107873  28.04472759\n",
      " 19.9336477  19.10572979 22.16263188 16.26263476 21.35544804 25.00701403\n",
      " 19.33030378 31.17162722 13.79730332 14.01424328 19.82709067 24.23500949\n",
      " 19.23399927 23.60816068 19.37403467 28.51960011 25.42101179 16.69235692\n",
      " 15.76423199 21.31379835 17.86799034 18.28669762 25.82517567 23.55603974\n",
      " 21.40076678 17.7057413  18.60198225 18.11375603 19.44463209 19.22530491\n",
      " 20.86576055 17.07491481 17.45288745 15.55351919 19.95640126 18.77089785\n",
      " 20.32729548 17.13597212 20.94782526 26.85979527 17.30870094 21.18645669\n",
      " 29.08008833 19.46944147 21.42902775 17.7895566  26.63901971 30.09929703\n",
      " 24.04530057 20.01139957 18.0623503  15.62117346 27.12999696 19.17847375\n",
      " 24.2669464  16.07730897 10.39470806 18.10951153 19.28576125 22.12877764\n",
      " 20.01621546 23.58736064 17.25885843 23.29037268 20.18504569 21.62334984\n",
      " 14.69776917 24.37581768 21.77711277 23.46685253 24.66442435 24.495476\n",
      " 16.87039108 22.54107102 22.80230441 13.88861636 23.1803862  14.16785548\n",
      " 25.7751191  20.12019984 24.95323222 20.92745909 19.31622131 25.15535339\n",
      " 22.51509922 28.93593288 32.79535187 17.24158675 25.92977396 19.66074194\n",
      " 21.54360792 14.36845045 24.820138   15.91648607 19.79358182 24.25842839\n",
      " 15.75451599 21.90168055 10.87278054 17.4795147  23.9026981  27.9188323\n",
      " 26.41310584 17.42152151 14.21046098 19.86891239 22.12527058 13.18917833\n",
      " 24.84068846 29.20080057 25.64417416  7.86626511 18.42826842 23.12816474\n",
      " 20.54886839 17.50077477 26.36684302 28.82794228 25.40532451 21.00853368\n",
      " 17.34093108 17.93433504 19.93162141 21.00006116 28.00966887 21.71084198\n",
      " 21.66249724 13.68484667 18.64926053 20.31186531 19.03005239 22.86166373\n",
      " 26.57700062 17.88813625 23.53364666 21.80822069 22.54144739 24.89390091\n",
      " 27.43246483 23.63405862 26.1656839  23.94870164 20.86383663 24.83217047\n",
      " 23.66424645 22.80439096 28.1065259  24.37377095 14.7768868  23.74369108\n",
      " 29.56611301 17.58211157 32.28535779 29.95487098 20.78317571 19.17065222\n",
      " 25.34827696 20.95637534 16.4459506  16.79805495 23.70427599 17.20285823\n",
      " 22.33203417 27.25370719 16.06041482 19.17785467 25.3298488  21.00312829\n",
      " 23.29916222 19.3941376  19.8964526  17.94846333 21.48741616 19.8052128\n",
      " 21.009842   27.46751725 25.72369088 30.66152874 19.64541071 22.39192673\n",
      " 26.0118151  21.14769721 18.91365769 17.51631215 25.19968755 22.0813285\n",
      " 16.84234059 18.0847785  22.6640365  33.42217494 17.25287784 16.34553381\n",
      " 22.71344478 18.07272093 27.3361504  18.16046163 20.58424024 13.76080762\n",
      " 17.4659057  17.34944895 21.23378873 23.88166451 24.11445507 19.65671312\n",
      " 16.78549127 22.74970459 19.93677148 23.10987001 18.53716276 19.73651949\n",
      " 23.78774146 16.77777798 16.47509142 14.28396799 14.28544874 24.37750731\n",
      " 21.42455683 23.13618182 17.66642829 28.51826725 26.99218886 19.74681688\n",
      " 15.4651589  27.67616898 19.52422713 25.32969967 14.78600259 16.83656813\n",
      " 24.70218462 19.46452966 14.37341014 23.01237037 24.24162301 12.4825813\n",
      " 16.95859139 17.95350587 24.74084429 22.23993636 21.638261   17.16327783\n",
      " 16.03241435 11.75282847 22.51725444 19.81126549 18.32511693 25.65693829\n",
      " 24.39204252 19.70972732 26.67374575 19.96119273 18.98030517 24.36065105\n",
      " 21.13836874 27.69674245 23.8245065  24.25441495 15.61851783 20.02524767\n",
      " 26.36528791 16.15509388 23.19689626 25.23014496 16.76901769 20.04176461\n",
      " 27.85465554 19.60453874 25.68796312 14.88028656  8.6783354  27.28201929\n",
      " 25.72479404  8.62435376 23.64060976 28.79059953 19.81901115 20.44055475\n",
      " 25.43228517 21.38477753 17.46465529 22.12363354 16.95089487 22.06318834\n",
      " 17.47507824 20.95530128 22.09097239 21.36272269 23.53979814 16.4704887\n",
      " 19.48083882 15.3080546  12.8229907  25.44360518 19.03316106 17.54096168\n",
      " 15.9458456  19.74605087 24.23855287 16.8004807  14.10304706 27.50318804\n",
      " 20.35207163 23.25091288 27.37406609 22.49776784 16.43127128 13.68488589]\n",
      "11.\n",
      "[23.89855846 15.21612255 23.03835029 18.42020509 25.00609476 17.74182685\n",
      " 18.67479665 24.67165212 21.75167662 24.36600618 17.13512119 19.9336477\n",
      " 19.10572979 22.16263188 16.26263476 21.35544804 25.00701403 19.33030378\n",
      " 19.82709067 24.23500949 19.23399927 23.60816068 19.37403467 25.42101179\n",
      " 16.69235692 15.76423199 21.31379835 17.86799034 18.28669762 25.82517567\n",
      " 23.55603974 21.40076678 17.7057413  18.60198225 18.11375603 19.44463209\n",
      " 19.22530491 20.86576055 17.07491481 17.45288745 15.55351919 19.95640126\n",
      " 18.77089785 20.32729548 17.13597212 20.94782526 17.30870094 21.18645669\n",
      " 19.46944147 21.42902775 17.7895566  24.04530057 20.01139957 18.0623503\n",
      " 15.62117346 19.17847375 24.2669464  16.07730897 18.10951153 19.28576125\n",
      " 22.12877764 20.01621546 23.58736064 17.25885843 23.29037268 20.18504569\n",
      " 21.62334984 24.37581768 21.77711277 23.46685253 24.66442435 24.495476\n",
      " 16.87039108 22.54107102 22.80230441 23.1803862  25.7751191  20.12019984\n",
      " 24.95323222 20.92745909 19.31622131 25.15535339 22.51509922 17.24158675\n",
      " 25.92977396 19.66074194 21.54360792 24.820138   15.91648607 19.79358182\n",
      " 24.25842839 15.75451599 21.90168055 17.4795147  23.9026981  17.42152151\n",
      " 19.86891239 22.12527058 24.84068846 25.64417416 18.42826842 23.12816474\n",
      " 20.54886839 17.50077477 25.40532451 21.00853368 17.34093108 17.93433504\n",
      " 19.93162141 21.00006116 21.71084198 21.66249724 18.64926053 20.31186531\n",
      " 19.03005239 22.86166373 17.88813625 23.53364666 21.80822069 22.54144739\n",
      " 24.89390091 23.63405862 23.94870164 20.86383663 24.83217047 23.66424645\n",
      " 22.80439096 24.37377095 23.74369108 17.58211157 20.78317571 19.17065222\n",
      " 25.34827696 20.95637534 16.4459506  16.79805495 23.70427599 17.20285823\n",
      " 22.33203417 16.06041482 19.17785467 25.3298488  21.00312829 23.29916222\n",
      " 19.3941376  19.8964526  17.94846333 21.48741616 19.8052128  21.009842\n",
      " 25.72369088 19.64541071 22.39192673 21.14769721 18.91365769 17.51631215\n",
      " 25.19968755 22.0813285  16.84234059 18.0847785  22.6640365  17.25287784\n",
      " 16.34553381 22.71344478 18.07272093 18.16046163 20.58424024 17.4659057\n",
      " 17.34944895 21.23378873 23.88166451 24.11445507 19.65671312 16.78549127\n",
      " 22.74970459 19.93677148 23.10987001 18.53716276 19.73651949 23.78774146\n",
      " 16.77777798 16.47509142 24.37750731 21.42455683 23.13618182 17.66642829\n",
      " 19.74681688 15.4651589  19.52422713 25.32969967 16.83656813 24.70218462\n",
      " 19.46452966 23.01237037 24.24162301 16.95859139 17.95350587 24.74084429\n",
      " 22.23993636 21.638261   17.16327783 16.03241435 22.51725444 19.81126549\n",
      " 18.32511693 25.65693829 24.39204252 19.70972732 19.96119273 18.98030517\n",
      " 24.36065105 21.13836874 23.8245065  24.25441495 15.61851783 20.02524767\n",
      " 16.15509388 23.19689626 25.23014496 16.76901769 20.04176461 19.60453874\n",
      " 25.68796312 25.72479404 23.64060976 19.81901115 20.44055475 25.43228517\n",
      " 21.38477753 17.46465529 22.12363354 16.95089487 22.06318834 17.47507824\n",
      " 20.95530128 22.09097239 21.36272269 23.53979814 16.4704887  19.48083882\n",
      " 15.3080546  25.44360518 19.03316106 17.54096168 15.9458456  19.74605087\n",
      " 24.23855287 16.8004807  20.35207163 23.25091288 22.49776784 16.43127128]\n",
      "12.\n",
      "13.\n",
      "5212.213534762345\n",
      "14.\n",
      "[23.89855846 15.21612255 23.03835029 18.42020509 25.00609476 17.74182685\n",
      " 18.67479665 24.67165212 21.75167662 24.36600618 17.13512119 19.9336477\n",
      " 19.10572979 22.16263188 16.26263476 21.35544804 25.00701403 19.33030378\n",
      " 19.82709067 24.23500949 19.23399927 23.60816068 19.37403467 25.42101179\n",
      " 16.69235692 15.76423199 21.31379835 17.86799034 18.28669762 25.82517567\n",
      " 23.55603974 21.40076678 17.7057413  18.60198225 18.11375603 19.44463209\n",
      " 19.22530491 20.86576055 17.07491481 17.45288745 15.55351919 19.95640126\n",
      " 18.77089785 20.32729548 17.13597212 20.94782526 17.30870094 21.18645669\n",
      " 19.46944147 21.42902775 17.7895566  24.04530057 20.01139957 18.0623503\n",
      " 15.62117346 19.17847375 24.2669464  16.07730897 18.10951153 19.28576125\n",
      " 22.12877764 20.01621546 23.58736064 17.25885843 23.29037268 20.18504569\n",
      " 21.62334984 24.37581768 21.77711277 23.46685253 24.66442435 24.495476\n",
      " 16.87039108 22.54107102 22.80230441 23.1803862  25.7751191  20.12019984\n",
      " 24.95323222 20.92745909 19.31622131 25.15535339 22.51509922 17.24158675\n",
      " 25.92977396 19.66074194 21.54360792 24.820138   15.91648607 19.79358182\n",
      " 24.25842839 15.75451599 21.90168055 17.4795147  23.9026981  17.42152151\n",
      " 19.86891239 22.12527058 24.84068846 25.64417416 18.42826842 23.12816474\n",
      " 20.54886839 17.50077477 25.40532451 21.00853368 17.34093108 17.93433504\n",
      " 19.93162141 21.00006116 21.71084198 21.66249724 18.64926053 20.31186531\n",
      " 19.03005239 22.86166373 17.88813625 23.53364666 21.80822069 22.54144739\n",
      " 24.89390091 23.63405862 23.94870164 20.86383663 24.83217047 23.66424645\n",
      " 22.80439096 24.37377095 23.74369108 17.58211157 20.78317571 19.17065222\n",
      " 25.34827696 20.95637534 16.4459506  16.79805495 23.70427599 17.20285823\n",
      " 22.33203417 16.06041482 19.17785467 25.3298488  21.00312829 23.29916222\n",
      " 19.3941376  19.8964526  17.94846333 21.48741616 19.8052128  21.009842\n",
      " 25.72369088 19.64541071 22.39192673 21.14769721 18.91365769 17.51631215\n",
      " 25.19968755 22.0813285  16.84234059 18.0847785  22.6640365  17.25287784\n",
      " 16.34553381 22.71344478 18.07272093 18.16046163 20.58424024 17.4659057\n",
      " 17.34944895 21.23378873 23.88166451 24.11445507 19.65671312 16.78549127\n",
      " 22.74970459 19.93677148 23.10987001 18.53716276 19.73651949 23.78774146\n",
      " 16.77777798 16.47509142 24.37750731 21.42455683 23.13618182 17.66642829\n",
      " 19.74681688 15.4651589  19.52422713 25.32969967 16.83656813 24.70218462\n",
      " 19.46452966 23.01237037 24.24162301 16.95859139 17.95350587 24.74084429\n",
      " 22.23993636 21.638261   17.16327783 16.03241435 22.51725444 19.81126549\n",
      " 18.32511693 25.65693829 24.39204252 19.70972732 19.96119273 18.98030517\n",
      " 24.36065105 21.13836874 23.8245065  24.25441495 15.61851783 20.02524767\n",
      " 16.15509388 23.19689626 25.23014496 16.76901769 20.04176461 19.60453874\n",
      " 25.68796312 25.72479404 23.64060976 19.81901115 20.44055475 25.43228517\n",
      " 21.38477753 17.46465529 22.12363354 16.95089487 22.06318834 17.47507824\n",
      " 20.95530128 22.09097239 21.36272269 23.53979814 16.4704887  19.48083882\n",
      " 15.3080546  25.44360518 19.03316106 17.54096168 15.9458456  19.74605087\n",
      " 24.23855287 16.8004807  20.35207163 23.25091288 22.49776784 16.43127128]\n",
      "15.\n"
     ]
    }
   ],
   "source": [
    "#1\n",
    "#### Your Code ###\n",
    "####  Here ### \n",
    "import numpy as np\n",
    "\n",
    "my_list = [1, 2, 3]\n",
    "my_array1 = np.array(my_list)\n",
    "print(my_list)\n",
    "print(my_array1)\n",
    "\n",
    "#2\n",
    "#### Your Code ###\n",
    "####  Here ### \n",
    "\n",
    "my_array1 = my_array1.astype(float)\n",
    "print(my_array1)\n",
    "\n",
    "\n",
    "#3\n",
    "#### Your Code ###\n",
    "####  Here ### \n",
    "\n",
    "arr = np.array([0,1, 2, 3, 4, 5, 6, 7, 8, 9, 10])\n",
    "print(arr)\n",
    "print(type(arr))\n",
    "\n",
    "#4\n",
    "#### Your Code ###\n",
    "####  Here ### \n",
    "arr2= np.linspace(0,23,7)\n",
    "print(arr2)\n",
    "\n",
    "\n",
    "\n",
    "#5\n",
    "#### Your Code ###\n",
    "####  Here ### '\n",
    "my_list1=[2,5,1,5,2,1]\n",
    "a=np.array(my_list1)\n",
    "arr3=np.ones(a)*5\n",
    "print(arr3)\n",
    "\n",
    "#6\n",
    "#### Your Code ###\n",
    "####  Here ### \n",
    "b=arr3.squeeze()\n",
    "print(b)\n",
    "\n",
    "\n",
    "#7\n",
    "#### Your Code ###\n",
    "####  Here ### \n",
    "c=b.reshape((10,10))\n",
    "print(c)\n",
    "\n",
    "#8\n",
    "arr = np.random.normal(loc = 21.0, scale = 4.5, size = (3, 3, 12, 3))\n",
    "#### Your Code ###\n",
    "####  Here ### \n",
    "x=arr.mean()\n",
    "y=arr.std()\n",
    "z=arr.var()\n",
    "p=arr.max()\n",
    "q=arr.min()\n",
    "\n",
    "print(x,y,z,p,q)\n",
    "\n",
    "#9 \n",
    "#  just look into the argument axis, what does it mean? it means a dimension of array.\n",
    "#### Your Code ###\n",
    "####  Here ### \n",
    "p=arr.mean(2)\n",
    "l=arr.std(2)\n",
    "m=arr.var(2)\n",
    "n=arr.max(2)\n",
    "u=arr.min(2)\n",
    "\n",
    "print(p)\n",
    "print(l)\n",
    "print(m)\n",
    "print(n)\n",
    "print(u)\n",
    "\n",
    "#10\n",
    "#### Your Code ###\n",
    "####  Here ### \n",
    "print (\"10.\")\n",
    "arr6=arr.flatten()\n",
    "print(arr6)\n",
    "\n",
    "#11\n",
    "#### Your Code ###\n",
    "####  Here ### \n",
    "print (\"11.\")\n",
    "remove=arr[(arr>15)&(arr<26)]\n",
    "print(remove)\n",
    "\n",
    "#12\n",
    "#### Your Code ###\n",
    "####  Here ### \n",
    "print (\"12.\")\n",
    "remove[remove==15] = np.NaN\n",
    "remove[remove==26] = np.NaN\n",
    "\n",
    "#13\n",
    "print (\"13.\")\n",
    "#### Your Code ###\n",
    "####  Here ### \n",
    "SumOfArray=np.nansum(remove)\n",
    "print(SumOfArray)\n",
    "\n",
    "#14\n",
    "print (\"14.\")\n",
    "#### Your Code ###\n",
    "####  Here ### \n",
    "convert=np.nan_to_num(remove)\n",
    "print(convert)\n",
    "\n",
    "#15\n",
    "print (\"15.\")\n",
    "#### Your Code ###\n",
    "####  Here ### \n",
    "foo=np.savetxt('lastarray.gz',remove)\n",
    "Remove_Load=np.loadtxt('lastarray.gz')"
   ]
  },
  {
   "cell_type": "code",
   "execution_count": null,
   "metadata": {},
   "outputs": [],
   "source": []
  }
 ],
 "metadata": {
  "kernelspec": {
   "display_name": "Python 3",
   "language": "python",
   "name": "python3"
  },
  "language_info": {
   "codemirror_mode": {
    "name": "ipython",
    "version": 3
   },
   "file_extension": ".py",
   "mimetype": "text/x-python",
   "name": "python",
   "nbconvert_exporter": "python",
   "pygments_lexer": "ipython3",
   "version": "3.8.3"
  }
 },
 "nbformat": 4,
 "nbformat_minor": 1
}
